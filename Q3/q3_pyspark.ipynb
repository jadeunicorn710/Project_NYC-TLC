{
 "cells": [
  {
   "cell_type": "markdown",
   "metadata": {},
   "source": [
    "# HW3 - Q3 [35 pts]"
   ]
  },
  {
   "cell_type": "markdown",
   "metadata": {},
   "source": [
    "## Important Notices\n",
    "\n",
    "<div class=\"alert alert-block alert-danger\">\n",
    "    WARNING: Do <strong>NOT</strong> add any cells to this Jupyter Notebook, because that will crash the autograder.\n",
    "</div>\n",
    "\n",
    "<div class=\"alert alert-block alert-danger\">\n",
    "    WARNING: Do <strong>NOT</strong> implement any additional libraries into this workbook.\n",
    "</div>\n",
    "\n",
    "All instructions, code comments, etc. in this notebook **are part of the assignment instructions**. That is, if there is instructions about completing a task in this notebook, that task is not optional.  \n",
    "\n",
    "<div class=\"alert alert-block alert-info\">\n",
    "    You <strong>must</strong> implement the following functions in this notebook to receive credit.\n",
    "</div>\n",
    "\n",
    "`user()`\n",
    "\n",
    "`bucket()`\n",
    "\n",
    "`long_trips()`\n",
    "\n",
    "`manhattan_trips()`\n",
    "\n",
    "`weighted_profit()`\n",
    "\n",
    "`final_output()`\n",
    "\n",
    "Each method will be auto-graded using different sets of parameters or data, to ensure that values are not hard-coded.  You may assume we will only use your code to work with data from the NYC-TLC dataset during auto-grading.\n",
    "\n",
    "<div class=\"alert alert-block alert-danger\">\n",
    "    WARNING: Do <strong>NOT</strong> remove or modify the following utility functions:\n",
    "</div>\n",
    "\n",
    "`load_data()`\n",
    "\n",
    "`main()`"
   ]
  },
  {
   "cell_type": "markdown",
   "metadata": {},
   "source": [
    "<div class=\"alert alert-block alert-info\">\n",
    "    Do <strong>not</strong> change the below cell. Run it to initialize your PySpark instance.\n",
    "</div>"
   ]
  },
  {
   "cell_type": "code",
   "execution_count": 1,
   "metadata": {},
   "outputs": [
    {
     "data": {
      "application/vnd.jupyter.widget-view+json": {
       "model_id": "8149249ace464534979fb13aaf27ec13",
       "version_major": 2,
       "version_minor": 0
      },
      "text/plain": [
       "VBox()"
      ]
     },
     "metadata": {},
     "output_type": "display_data"
    },
    {
     "name": "stdout",
     "output_type": "stream",
     "text": [
      "Starting Spark application\n"
     ]
    },
    {
     "data": {
      "text/html": [
       "<table>\n",
       "<tr><th>ID</th><th>YARN Application ID</th><th>Kind</th><th>State</th><th>Spark UI</th><th>Driver log</th><th>Current session?</th></tr><tr><td>1</td><td>application_1602468690205_0002</td><td>pyspark</td><td>idle</td><td><a target=\"_blank\" href=\"http://ip-172-31-41-254.ec2.internal:20888/proxy/application_1602468690205_0002/\">Link</a></td><td><a target=\"_blank\" href=\"http://ip-172-31-42-50.ec2.internal:8042/node/containerlogs/container_1602468690205_0002_01_000001/livy\">Link</a></td><td>✔</td></tr></table>"
      ],
      "text/plain": [
       "<IPython.core.display.HTML object>"
      ]
     },
     "metadata": {},
     "output_type": "display_data"
    },
    {
     "data": {
      "application/vnd.jupyter.widget-view+json": {
       "model_id": "",
       "version_major": 2,
       "version_minor": 0
      },
      "text/plain": [
       "FloatProgress(value=0.0, bar_style='info', description='Progress:', layout=Layout(height='25px', width='50%'),…"
      ]
     },
     "metadata": {},
     "output_type": "display_data"
    },
    {
     "name": "stdout",
     "output_type": "stream",
     "text": [
      "SparkSession available as 'spark'.\n"
     ]
    },
    {
     "data": {
      "application/vnd.jupyter.widget-view+json": {
       "model_id": "",
       "version_major": 2,
       "version_minor": 0
      },
      "text/plain": [
       "FloatProgress(value=0.0, bar_style='info', description='Progress:', layout=Layout(height='25px', width='50%'),…"
      ]
     },
     "metadata": {},
     "output_type": "display_data"
    },
    {
     "name": "stdout",
     "output_type": "stream",
     "text": [
      "<SparkContext master=yarn appName=livy-session-1>"
     ]
    }
   ],
   "source": [
    "sc"
   ]
  },
  {
   "cell_type": "markdown",
   "metadata": {},
   "source": [
    "<div class=\"alert alert-block alert-danger\">\n",
    "    WARNING: Do <strong>NOT</strong> remodify the below cell. It contains the function for loading data and all imports, and the function for running your code.\n",
    "</div>"
   ]
  },
  {
   "cell_type": "code",
   "execution_count": 2,
   "metadata": {},
   "outputs": [
    {
     "data": {
      "application/vnd.jupyter.widget-view+json": {
       "model_id": "ac3c0e6b06384b0dbdde151cb8d21312",
       "version_major": 2,
       "version_minor": 0
      },
      "text/plain": [
       "VBox()"
      ]
     },
     "metadata": {},
     "output_type": "display_data"
    },
    {
     "data": {
      "application/vnd.jupyter.widget-view+json": {
       "model_id": "",
       "version_major": 2,
       "version_minor": 0
      },
      "text/plain": [
       "FloatProgress(value=0.0, bar_style='info', description='Progress:', layout=Layout(height='25px', width='50%'),…"
      ]
     },
     "metadata": {},
     "output_type": "display_data"
    }
   ],
   "source": [
    "#### DO NOT CHANGE ANYTHING IN THIS CELL ####\n",
    "\n",
    "from pyspark.sql.functions import col\n",
    "\n",
    "def load_data(size='small'):\n",
    "    # Loads the data for this question. Do not change this function.\n",
    "    # This function should only be called with the parameter 'small' or 'large'\n",
    "    \n",
    "    if size != 'small' and size != 'large':\n",
    "        print(\"Invalid size parameter provided. Use only 'small' or 'large'.\")\n",
    "        return\n",
    "    \n",
    "    input_bucket = \"s3://fall2020-cse6242\"\n",
    "    \n",
    "    # Load Trip Data\n",
    "    trip_path = '/'+size+'/yellow_tripdata*'\n",
    "    trips = spark.read.csv(input_bucket + trip_path, header=True, inferSchema=True)\n",
    "    print(\"Trip Count: \",trips.count()) # Prints # of trips (# of records, as each record is one trip)\n",
    "    \n",
    "    # Load Lookup Data\n",
    "    lookup_path = '/'+size+'/taxi*'\n",
    "    lookup = spark.read.csv(input_bucket + lookup_path, header=True, inferSchema=True)\n",
    "    \n",
    "    return trips, lookup\n",
    "\n",
    "def main(size, bucket):\n",
    "    # Runs your functions implemented above.\n",
    "    \n",
    "    print(user())\n",
    "    trips, lookup = load_data(size=size)\n",
    "    trips = long_trips(trips)\n",
    "    mtrips = manhattan_trips(trips, lookup)\n",
    "    wp = weighted_profit(trips, mtrips)\n",
    "    final = final_output(wp,lookup)\n",
    "    \n",
    "    # Outputs the results for you to visually see\n",
    "    final.show()\n",
    "    \n",
    "    # Writes out as a CSV to your bucket.\n",
    "    final.write.csv(bucket)"
   ]
  },
  {
   "cell_type": "markdown",
   "metadata": {},
   "source": [
    "# Implement the below functions for this assignment:\n",
    "<div class=\"alert alert-block alert-danger\">\n",
    "    WARNING: Do <strong>NOT</strong> change any function inputs or outputs, and ensure that the dataframes your code returns align with the schema definitions commented in each function\n",
    "</div>"
   ]
  },
  {
   "cell_type": "markdown",
   "metadata": {},
   "source": [
    "## 3a. [1 pt] Update the `user()` function\n",
    "This function should return your GT username, eg: gburdell3"
   ]
  },
  {
   "cell_type": "code",
   "execution_count": 3,
   "metadata": {},
   "outputs": [
    {
     "data": {
      "application/vnd.jupyter.widget-view+json": {
       "model_id": "6b8fe497ff9b4e0783a66a3dbdd92f23",
       "version_major": 2,
       "version_minor": 0
      },
      "text/plain": [
       "VBox()"
      ]
     },
     "metadata": {},
     "output_type": "display_data"
    },
    {
     "data": {
      "application/vnd.jupyter.widget-view+json": {
       "model_id": "",
       "version_major": 2,
       "version_minor": 0
      },
      "text/plain": [
       "FloatProgress(value=0.0, bar_style='info', description='Progress:', layout=Layout(height='25px', width='50%'),…"
      ]
     },
     "metadata": {},
     "output_type": "display_data"
    }
   ],
   "source": [
    "def user():\n",
    "    # Returns a string consisting of your GT username.\n",
    "    return 'yqi82'"
   ]
  },
  {
   "cell_type": "markdown",
   "metadata": {},
   "source": [
    "## 3b. [2 pts] Update the `long_trips()` function\n",
    "This function filters trips to keep only trips longer than 2 miles."
   ]
  },
  {
   "cell_type": "code",
   "execution_count": 46,
   "metadata": {},
   "outputs": [
    {
     "data": {
      "application/vnd.jupyter.widget-view+json": {
       "model_id": "fdd92f21a96542668ddac2f9c21a45b4",
       "version_major": 2,
       "version_minor": 0
      },
      "text/plain": [
       "VBox()"
      ]
     },
     "metadata": {},
     "output_type": "display_data"
    },
    {
     "data": {
      "application/vnd.jupyter.widget-view+json": {
       "model_id": "",
       "version_major": 2,
       "version_minor": 0
      },
      "text/plain": [
       "FloatProgress(value=0.0, bar_style='info', description='Progress:', layout=Layout(height='25px', width='50%'),…"
      ]
     },
     "metadata": {},
     "output_type": "display_data"
    }
   ],
   "source": [
    "def long_trips(trips):\n",
    "    #clean data\n",
    "    trips = trips.withColumn(\"passenger_count\", col(\"passenger_count\").cast(\"long\")) \\\n",
    "    .withColumn(\"total_amount\", col(\"total_amount\").cast(\"double\")) \\\n",
    "    .withColumn(\"trip_distance\", col(\"trip_distance\").cast(\"double\"))\n",
    "    # Returns a Dataframe with Schema the same as :trips:\n",
    "    trips_filtered = trips.filter(trips.trip_distance >= 2.0)\n",
    "#     trips.show()\n",
    "    return trips_filtered\n",
    "#     pass"
   ]
  },
  {
   "cell_type": "markdown",
   "metadata": {},
   "source": [
    "## 3c. [6 pts] Update the `manhattan_trips()` function\n",
    "\n",
    "This function determines the top 20 locations with a `DOLocationID` in manhattan by passenger_count (pcount).\n",
    "\n",
    "Example output formatting:\n",
    "\n",
    "```\n",
    "+--------------+--------+\n",
    "| DOLocationID | pcount |\n",
    "+--------------+--------+\n",
    "|             5|      15|\n",
    "|            16|      12| \n",
    "+--------------+--------+\n",
    "```"
   ]
  },
  {
   "cell_type": "code",
   "execution_count": 47,
   "metadata": {},
   "outputs": [
    {
     "data": {
      "application/vnd.jupyter.widget-view+json": {
       "model_id": "757a22982e5a4a8d8a91a579306d96bf",
       "version_major": 2,
       "version_minor": 0
      },
      "text/plain": [
       "VBox()"
      ]
     },
     "metadata": {},
     "output_type": "display_data"
    },
    {
     "data": {
      "application/vnd.jupyter.widget-view+json": {
       "model_id": "",
       "version_major": 2,
       "version_minor": 0
      },
      "text/plain": [
       "FloatProgress(value=0.0, bar_style='info', description='Progress:', layout=Layout(height='25px', width='50%'),…"
      ]
     },
     "metadata": {},
     "output_type": "display_data"
    }
   ],
   "source": [
    "def manhattan_trips(trips, lookup):\n",
    "    # Returns a Dataframe with Schema: DOLocationID, pcount\n",
    "    trips.show()\n",
    "    lookup.show()\n",
    "    trips.withColumn(\"passenger_count\", col(\"passenger_count\").cast(\"long\"))\n",
    "    trips1 = trips.withColumnRenamed(\"DOLocationID\", \"LocationID\") \\\n",
    "    .groupBy(\"LocationID\").agg({\"passenger_count\":\"sum\"}) \\\n",
    "    .withColumnRenamed(\"SUM(passenger_count)\", \"pcount\")\n",
    "    trips2 = lookup.filter(lookup.Borough == \"Manhattan\")\n",
    "#     trips2.show()\n",
    "    mtrips = trips2.join(trips1, on=[\"LocationID\"], how=\"inner\").sort(col(\"pcount\").desc()) \\\n",
    "    .withColumnRenamed(\"LocationID\", \"DOLocationID\").limit(20)\n",
    "#     trips3.show()\n",
    "#     mtrips = trips3.groupBy(\"LocationID\").agg({\"passenger_count\":\"sum\"}) \\\n",
    "#     .withColumnRenamed(\"SUM(passenger_count)\", \"pcount\") \\\n",
    "#     .sort(col(\"pcount\").desc()).withColumnRenamed(\"LocationID\", \"DOLocationID\").limit(20)\n",
    "    mtrips.show()\n",
    "    return mtrips\n",
    "#     pass"
   ]
  },
  {
   "cell_type": "markdown",
   "metadata": {},
   "source": [
    "## 3d. [6 pts] Update the `weighted_profit()` function\n",
    "This function should determine the average `total_amount`, the total count of trips, and the total count of trips ending in the top 20 destinations and return the `weighted_profit` as discussed in the homework document.\n",
    "\n",
    "Example output formatting:\n",
    "```\n",
    "+--------------+-------------------+\n",
    "| PULocationID |  weighted_profit  |\n",
    "+--------------+-------------------+\n",
    "|            18| 33.784444421924436| \n",
    "|            12| 21.124577637149223| \n",
    "+--------------+-------------------+\n",
    "```"
   ]
  },
  {
   "cell_type": "code",
   "execution_count": 50,
   "metadata": {},
   "outputs": [
    {
     "data": {
      "application/vnd.jupyter.widget-view+json": {
       "model_id": "3ee583c507b7423b91c9f95dd231426a",
       "version_major": 2,
       "version_minor": 0
      },
      "text/plain": [
       "VBox()"
      ]
     },
     "metadata": {},
     "output_type": "display_data"
    },
    {
     "data": {
      "application/vnd.jupyter.widget-view+json": {
       "model_id": "",
       "version_major": 2,
       "version_minor": 0
      },
      "text/plain": [
       "FloatProgress(value=0.0, bar_style='info', description='Progress:', layout=Layout(height='25px', width='50%'),…"
      ]
     },
     "metadata": {},
     "output_type": "display_data"
    }
   ],
   "source": [
    "def weighted_profit(trips, mtrips): \n",
    "    # Returns a Dataframe with Schema: PULocationID, weighted_profit\n",
    "    trips = trips.withColumn(\"total_amount\", col(\"total_amount\").cast(\"double\"))\n",
    "    trips1 = trips.groupBy(\"PULocationID\").agg({\"total_amount\":\"avg\", \"PULocationID\":\"count\"}) \\\n",
    "    .withColumnRenamed(\"AVG(total_amount)\", \"avg_total_amount\").withColumnRenamed(\"COUNT(PULocationID)\", \"trip_counts\") \\\n",
    "    .withColumn(\"trip_counts\", col(\"trip_counts\").cast(\"long\"))\n",
    "#     trips1.show()\n",
    "    trips2 = trips.join(mtrips, on=[\"DOLocationID\"], how=\"inner\")\n",
    "#     trips2.show()\n",
    "    trips3 = trips2.groupBy(\"PULocationID\").agg({\"PULocationID\":\"count\"}) \\\n",
    "    .withColumnRenamed(\"COUNT(PULocationID)\", \"popular_trip_counts\") \\\n",
    "    .withColumn(\"popular_trip_counts\", col(\"popular_trip_counts\").cast(\"long\"))\n",
    "    \n",
    "#     trips3.show()\n",
    "    trips4 = trips1.join(trips3, on=[\"PULocationID\"], how=\"left\").na.fill(0)\n",
    "#     trips4.show()\n",
    "    trips5 = trips4.withColumn(\"weighted_profit\", (col(\"avg_total_amount\") * col(\"popular_trip_counts\") / col(\"trip_counts\")).cast(\"double\"))\n",
    "#     trips5.show()\n",
    "#     trips6 = trips5.withColumn(\"weighted_profit\", col(\"proportion\") * col(\"avg_total_amount\"))\n",
    "#     trips6.show()\n",
    "    wp = trips5.select(\"PULocationID\", \"weighted_profit\").sort(col(\"weighted_profit\").desc())\n",
    "    wp.show()\n",
    "    return wp\n",
    "#     pass"
   ]
  },
  {
   "cell_type": "markdown",
   "metadata": {},
   "source": [
    "## 3e. [5 pts] Update the `final_output()` function\n",
    "This function will take the results of `weighted_profit`, links it to the `borough` and `zone` and returns the top 20 locations with the highest `weighted_profit`.\n",
    "\n",
    "Example output formatting:\n",
    "```\n",
    "+------------+---------+-------------------+\n",
    "|    Zone    | Borough |  weighted_profit  |\n",
    "+----------------------+-------------------+\n",
    "| JFK Airport|   Queens|  16.95897820117925|\n",
    "|     Jamaica|   Queens| 14.879835188762488|\n",
    "+------------+---------+-------------------+\n",
    "```"
   ]
  },
  {
   "cell_type": "code",
   "execution_count": 56,
   "metadata": {},
   "outputs": [
    {
     "data": {
      "application/vnd.jupyter.widget-view+json": {
       "model_id": "16f60f48682542e5b890d65cc7301be7",
       "version_major": 2,
       "version_minor": 0
      },
      "text/plain": [
       "VBox()"
      ]
     },
     "metadata": {},
     "output_type": "display_data"
    },
    {
     "data": {
      "application/vnd.jupyter.widget-view+json": {
       "model_id": "",
       "version_major": 2,
       "version_minor": 0
      },
      "text/plain": [
       "FloatProgress(value=0.0, bar_style='info', description='Progress:', layout=Layout(height='25px', width='50%'),…"
      ]
     },
     "metadata": {},
     "output_type": "display_data"
    }
   ],
   "source": [
    "def final_output(calc, lookup): \n",
    "    # Returns a Dataframe with Schema: Zone, Borough, weighted_profit\n",
    "    calc = calc.withColumn(\"weighted_profit\", col(\"weighted_profit\").cast(\"double\"))\n",
    "    calc1 = calc.withColumnRenamed(\"PULocationID\", \"LocationID\")\n",
    "    calc2 = calc1.join(lookup, on=[\"LocationID\"], how=\"left\").na.fill(0.0) \\\n",
    "    .sort(col(\"weighted_profit\").desc())\n",
    "#     calc2.show()\n",
    "    final = calc2.select(\"Zone\", \"Borough\", \"weighted_profit\").limit(20)\n",
    "#     final.show()\n",
    "    return final\n",
    "#     pass"
   ]
  },
  {
   "cell_type": "markdown",
   "metadata": {},
   "source": [
    "<div class=\"alert alert-block alert-info\">\n",
    "    Test your code on the small dataset first, as the large dataset will take a significantly longer time to run\n",
    "</div>\n",
    "\n",
    "<div class=\"alert alert-block alert-danger\">\n",
    "    WARNING: Do <strong>NOT</strong> use the same bucket url for multiple runs of the `main()` function, as this will cause errors. Make sure to change the name of your output location every time. (ie: s3://cse6242-gburdell3/output-small2)\n",
    "</div>\n",
    "\n",
    "Update the below cell with the address to your bucket, then run the below cell to run your code to store the results in S3.\n",
    "\n",
    "When you have confirmed the results of the small dataset, run it again using the large dataset. Your output file will appear ina folder in your s3 bucket called YOUROUTPUT.csv as a csv file with a name something like part-0000-4d992f7a-0ad3-48f8-8c72-0022984e4b50-c000.csv. Download this file and rename it to q3_output.csv for submission. Do not make any other changes to the file. "
   ]
  },
  {
   "cell_type": "code",
   "execution_count": 58,
   "metadata": {},
   "outputs": [
    {
     "data": {
      "application/vnd.jupyter.widget-view+json": {
       "model_id": "401a350455d94c028aac194ee77bb1b3",
       "version_major": 2,
       "version_minor": 0
      },
      "text/plain": [
       "VBox()"
      ]
     },
     "metadata": {},
     "output_type": "display_data"
    },
    {
     "data": {
      "application/vnd.jupyter.widget-view+json": {
       "model_id": "",
       "version_major": 2,
       "version_minor": 0
      },
      "text/plain": [
       "FloatProgress(value=0.0, bar_style='info', description='Progress:', layout=Layout(height='25px', width='50%'),…"
      ]
     },
     "metadata": {},
     "output_type": "display_data"
    },
    {
     "name": "stdout",
     "output_type": "stream",
     "text": [
      "yqi82\n",
      "Trip Count:  187203269\n",
      "+--------+--------------------+---------------------+---------------+-------------+----------+------------------+------------+------------+------------+-----------+-----+-------+----------+------------+---------------------+------------+\n",
      "|VendorID|tpep_pickup_datetime|tpep_dropoff_datetime|passenger_count|trip_distance|RatecodeID|store_and_fwd_flag|PULocationID|DOLocationID|payment_type|fare_amount|extra|mta_tax|tip_amount|tolls_amount|improvement_surcharge|total_amount|\n",
      "+--------+--------------------+---------------------+---------------+-------------+----------+------------------+------------+------------+------------+-----------+-----+-------+----------+------------+---------------------+------------+\n",
      "|       1| 2018-01-01 00:44:55|  2018-01-01 01:03:05|              1|          2.7|         1|                 N|         239|         140|           2|         14|  0.5|    0.5|         0|           0|                  0.3|        15.3|\n",
      "|       1| 2018-01-01 00:20:22|  2018-01-01 00:52:51|              1|         10.2|         1|                 N|         140|         257|           2|       33.5|  0.5|    0.5|         0|           0|                  0.3|        34.8|\n",
      "|       1| 2018-01-01 00:09:18|  2018-01-01 00:27:06|              2|          2.5|         1|                 N|         246|         239|           1|       12.5|  0.5|    0.5|      2.75|           0|                  0.3|       16.55|\n",
      "|       1| 2018-01-01 00:52:54|  2018-01-01 01:17:33|              1|          3.5|         1|                 N|         141|         113|           2|       16.5|  0.5|    0.5|         0|           0|                  0.3|        17.8|\n",
      "|       1| 2018-01-01 00:35:53|  2018-01-01 00:52:59|              1|          5.7|         1|                 N|          13|         189|           1|         19|  0.5|    0.5|      4.05|           0|                  0.3|       24.35|\n",
      "|       2| 2018-01-01 00:30:47|  2018-01-01 01:13:20|              1|         3.74|         1|                 N|          48|         236|           1|       25.5|  0.5|    0.5|       6.7|           0|                  0.3|        33.5|\n",
      "|       1| 2018-01-01 00:31:11|  2018-01-01 01:07:56|              1|         10.9|         1|                 N|         229|          61|           2|         35|  0.5|    0.5|         0|           0|                  0.3|        36.3|\n",
      "|       2| 2018-01-01 00:25:19|  2018-01-01 00:45:02|              5|         3.13|         1|                 N|         263|         143|           2|         13|  0.5|    0.5|         0|           0|                  0.3|        14.3|\n",
      "|       2| 2018-01-01 00:51:36|  2018-01-01 01:04:13|              5|         2.22|         1|                 N|         239|          24|           2|        9.5|  0.5|    0.5|         0|           0|                  0.3|        10.8|\n",
      "|       2| 2018-01-01 00:09:11|  2018-01-01 00:30:24|              1|         2.93|         1|                 N|          90|         233|           1|       14.5|  0.5|    0.5|         2|           0|                  0.3|        17.8|\n",
      "|       2| 2018-01-01 00:32:00|  2018-01-01 00:58:50|              1|         3.52|         1|                 N|         233|         125|           2|         18|  0.5|    0.5|         0|           0|                  0.3|        19.3|\n",
      "|       1| 2018-01-01 00:41:49|  2018-01-01 00:54:44|              4|          3.0|         1|                 N|         161|         146|           1|         12|  0.5|    0.5|      2.65|           0|                  0.3|       15.95|\n",
      "|       2| 2018-01-01 00:24:54|  2018-01-01 00:46:55|              5|         3.31|         1|                 N|         234|         143|           1|         16|  0.5|    0.5|      3.46|           0|                  0.3|       20.76|\n",
      "|       1| 2018-01-01 00:13:37|  2018-01-01 00:23:52|              1|          2.7|         1|                 N|         142|         166|           1|       10.5|  0.5|    0.5|      2.35|           0|                  0.3|       14.15|\n",
      "|       1| 2018-01-01 00:33:29|  2018-01-01 01:18:08|              2|          4.3|         1|                 N|         238|         249|           2|       27.5|  0.5|    0.5|         0|           0|                  0.3|        28.8|\n",
      "|       2| 2018-01-01 00:45:07|  2018-01-01 00:58:29|              1|         2.09|         1|                 N|         238|         143|           1|         11|  0.5|    0.5|      2.46|           0|                  0.3|       14.76|\n",
      "|       2| 2018-01-01 00:31:23|  2018-01-01 00:45:38|              1|         2.32|         1|                 N|         186|         231|           1|         11|  0.5|    0.5|      3.08|           0|                  0.3|       15.38|\n",
      "|       2| 2018-01-01 00:47:03|  2018-01-01 01:26:24|              1|         9.49|         1|                 N|         231|         116|           1|         35|  0.5|    0.5|      9.08|           0|                  0.3|       45.38|\n",
      "|       1| 2018-01-01 00:21:19|  2018-01-01 00:28:33|              2|          2.5|         1|                 N|         141|         145|           1|        9.5|  0.5|    0.5|       2.7|           0|                  0.3|        13.5|\n",
      "|       1| 2018-01-01 00:32:45|  2018-01-01 00:47:19|              1|          4.6|         1|                 N|         145|         263|           1|       15.5|  0.5|    0.5|       4.2|           0|                  0.3|        21.0|\n",
      "+--------+--------------------+---------------------+---------------+-------------+----------+------------------+------------+------------+------------+-----------+-----+-------+----------+------------+---------------------+------------+\n",
      "only showing top 20 rows\n",
      "\n",
      "+----------+-------------+--------------------+------------+\n",
      "|LocationID|      Borough|                Zone|service_zone|\n",
      "+----------+-------------+--------------------+------------+\n",
      "|         1|          EWR|      Newark Airport|         EWR|\n",
      "|         2|       Queens|         Jamaica Bay|   Boro Zone|\n",
      "|         3|        Bronx|Allerton/Pelham G...|   Boro Zone|\n",
      "|         4|    Manhattan|       Alphabet City| Yellow Zone|\n",
      "|         5|Staten Island|       Arden Heights|   Boro Zone|\n",
      "|         6|Staten Island|Arrochar/Fort Wad...|   Boro Zone|\n",
      "|         7|       Queens|             Astoria|   Boro Zone|\n",
      "|         8|       Queens|        Astoria Park|   Boro Zone|\n",
      "|         9|       Queens|          Auburndale|   Boro Zone|\n",
      "|        10|       Queens|        Baisley Park|   Boro Zone|\n",
      "|        11|     Brooklyn|          Bath Beach|   Boro Zone|\n",
      "|        12|    Manhattan|        Battery Park| Yellow Zone|\n",
      "|        13|    Manhattan|   Battery Park City| Yellow Zone|\n",
      "|        14|     Brooklyn|           Bay Ridge|   Boro Zone|\n",
      "|        15|       Queens|Bay Terrace/Fort ...|   Boro Zone|\n",
      "|        16|       Queens|             Bayside|   Boro Zone|\n",
      "|        17|     Brooklyn|             Bedford|   Boro Zone|\n",
      "|        18|        Bronx|        Bedford Park|   Boro Zone|\n",
      "|        19|       Queens|           Bellerose|   Boro Zone|\n",
      "|        20|        Bronx|             Belmont|   Boro Zone|\n",
      "+----------+-------------+--------------------+------------+\n",
      "only showing top 20 rows\n",
      "\n",
      "+------------+---------+--------------------+------------+-------+\n",
      "|DOLocationID|  Borough|                Zone|service_zone| pcount|\n",
      "+------------+---------+--------------------+------------+-------+\n",
      "|         236|Manhattan|Upper East Side N...| Yellow Zone|3528776|\n",
      "|         230|Manhattan|Times Sq/Theatre ...| Yellow Zone|3162933|\n",
      "|         161|Manhattan|      Midtown Center| Yellow Zone|3116127|\n",
      "|         162|Manhattan|        Midtown East| Yellow Zone|2714476|\n",
      "|          48|Manhattan|        Clinton East| Yellow Zone|2678151|\n",
      "|         239|Manhattan|Upper West Side S...| Yellow Zone|2595985|\n",
      "|         170|Manhattan|         Murray Hill| Yellow Zone|2529140|\n",
      "|         231|Manhattan|TriBeCa/Civic Center| Yellow Zone|2502147|\n",
      "|          79|Manhattan|        East Village| Yellow Zone|2495986|\n",
      "|         238|Manhattan|Upper West Side N...| Yellow Zone|2423210|\n",
      "|         142|Manhattan| Lincoln Square East| Yellow Zone|2386885|\n",
      "|         237|Manhattan|Upper East Side S...| Yellow Zone|2330464|\n",
      "|         263|Manhattan|      Yorkville West| Yellow Zone|2285207|\n",
      "|         141|Manhattan|     Lenox Hill West| Yellow Zone|2190292|\n",
      "|          68|Manhattan|        East Chelsea| Yellow Zone|2182082|\n",
      "|         186|Manhattan|Penn Station/Madi...| Yellow Zone|2104706|\n",
      "|          13|Manhattan|   Battery Park City| Yellow Zone|2064024|\n",
      "|         163|Manhattan|       Midtown North| Yellow Zone|2041180|\n",
      "|         246|Manhattan|West Chelsea/Huds...| Yellow Zone|2005676|\n",
      "|         140|Manhattan|     Lenox Hill East| Yellow Zone|2000394|\n",
      "+------------+---------+--------------------+------------+-------+\n",
      "\n",
      "+------------+------------------+\n",
      "|PULocationID|   weighted_profit|\n",
      "+------------+------------------+\n",
      "|          10| 29.36045577913085|\n",
      "|          93|27.304845733617668|\n",
      "|         215|26.294916239873466|\n",
      "|         194| 24.15098994022753|\n",
      "|           8|21.706417112147527|\n",
      "|          28|19.945064631789325|\n",
      "|         219|19.468309288781903|\n",
      "|         130|19.283943000137906|\n",
      "|          56| 18.22876924815597|\n",
      "|         138|18.181338808372995|\n",
      "|           2|17.100529446757893|\n",
      "|         157|17.005450640079538|\n",
      "|          84| 16.83776475694445|\n",
      "|         132|16.777725348249643|\n",
      "|          12|12.849780311142876|\n",
      "|         166|12.453698026584082|\n",
      "|          13|12.448848404428599|\n",
      "|         113|12.446949891694036|\n",
      "|         199|           12.3063|\n",
      "|         261|12.295411924133372|\n",
      "+------------+------------------+\n",
      "only showing top 20 rows\n",
      "\n",
      "+--------------------+-------------+------------------+\n",
      "|                Zone|      Borough|   weighted_profit|\n",
      "+--------------------+-------------+------------------+\n",
      "|        Baisley Park|       Queens| 29.36045577913084|\n",
      "|Flushing Meadows-...|       Queens|27.304845733617654|\n",
      "|       South Jamaica|       Queens|26.294916239873476|\n",
      "|     Randalls Island|    Manhattan|24.150989940227518|\n",
      "|        Astoria Park|       Queens|21.706417112147527|\n",
      "|Briarwood/Jamaica...|       Queens|19.945064631789332|\n",
      "|Springfield Garde...|       Queens| 19.46830928878191|\n",
      "|             Jamaica|       Queens|19.283943000137896|\n",
      "|              Corona|       Queens|18.228769248155974|\n",
      "|   LaGuardia Airport|       Queens|18.181338808373003|\n",
      "|         Jamaica Bay|       Queens|17.100529446757896|\n",
      "|             Maspeth|       Queens|17.005450640079545|\n",
      "|Eltingville/Annad...|Staten Island|16.837764756944445|\n",
      "|         JFK Airport|       Queens|16.777725348249636|\n",
      "|        Battery Park|    Manhattan| 12.84978031114288|\n",
      "| Morningside Heights|    Manhattan|12.453698026584075|\n",
      "|   Battery Park City|    Manhattan|12.448848404428599|\n",
      "|Greenwich Village...|    Manhattan|12.446949891694041|\n",
      "|       Rikers Island|        Bronx|           12.3063|\n",
      "|  World Trade Center|    Manhattan|12.295411924133374|\n",
      "+--------------------+-------------+------------------+"
     ]
    }
   ],
   "source": [
    "bucket = 's3://cse6242-yqi82/output-large1'\n",
    "# main('small',bucket)\n",
    "main('large', bucket)"
   ]
  },
  {
   "cell_type": "markdown",
   "metadata": {},
   "source": [
    "#### Testing\n",
    "\n",
    "<div class=\"alert alert-block alert-info\">\n",
    "    You may use the below cell for any additional testing you need to do, however any code implemented below will not be run or used when grading\n",
    "</div>"
   ]
  },
  {
   "cell_type": "code",
   "execution_count": null,
   "metadata": {},
   "outputs": [],
   "source": []
  }
 ],
 "metadata": {
  "kernelspec": {
   "display_name": "PySpark",
   "language": "",
   "name": "pysparkkernel"
  },
  "language_info": {
   "codemirror_mode": {
    "name": "python",
    "version": 2
   },
   "mimetype": "text/x-python",
   "name": "pyspark",
   "pygments_lexer": "python2"
  }
 },
 "nbformat": 4,
 "nbformat_minor": 4
}
